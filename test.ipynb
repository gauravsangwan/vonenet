{
 "cells": [
  {
   "cell_type": "code",
   "execution_count": 5,
   "metadata": {},
   "outputs": [
    {
     "ename": "ImportError",
     "evalue": "cannot import name 'VOneNet_Custom' from 'vonenet' (/home/iiticos/Desktop/College/BTP/Implementations/Stage 8/vonenet/vonenet/__init__.py)",
     "output_type": "error",
     "traceback": [
      "\u001b[0;31m---------------------------------------------------------------------------\u001b[0m",
      "\u001b[0;31mImportError\u001b[0m                               Traceback (most recent call last)",
      "Cell \u001b[0;32mIn[5], line 1\u001b[0m\n\u001b[0;32m----> 1\u001b[0m \u001b[38;5;28;01mfrom\u001b[39;00m \u001b[38;5;21;01mvonenet\u001b[39;00m \u001b[38;5;28;01mimport\u001b[39;00m VOneNet_Custom\n\u001b[1;32m      2\u001b[0m model \u001b[38;5;241m=\u001b[39m VOneNet_Custom()\n\u001b[1;32m      3\u001b[0m model\n",
      "\u001b[0;31mImportError\u001b[0m: cannot import name 'VOneNet_Custom' from 'vonenet' (/home/iiticos/Desktop/College/BTP/Implementations/Stage 8/vonenet/vonenet/__init__.py)"
     ]
    }
   ],
   "source": [
    "\n",
    "from collections import OrderedDict\n",
    "from torch import nn\n",
    "from .vonenet.modules import VOneBlock\n",
    "from .vonenet.back_ends import ResNetBackEnd, Bottleneck, AlexNetBackEnd, CORnetSBackEnd\n",
    "from .vonenet.params import generate_gabor_param\n",
    "import numpy as np\n",
    "\n",
    "\n",
    "def VOneNet(sf_corr=0.75, sf_max=9, sf_min=0, rand_param=False, gabor_seed=0,\n",
    "            simple_channels=256, complex_channels=256,\n",
    "            noise_mode='neuronal', noise_scale=0.35, noise_level=0.07, k_exc=25,\n",
    "            model_arch='resnet50', image_size=224, visual_degrees=8, ksize=25, stride=4):\n",
    "\n",
    "\n",
    "    out_channels = simple_channels + complex_channels\n",
    "\n",
    "    sf, theta, phase, nx, ny = generate_gabor_param(out_channels, gabor_seed, rand_param, sf_corr, sf_max, sf_min)\n",
    "\n",
    "    gabor_params = {'simple_channels': simple_channels, 'complex_channels': complex_channels, 'rand_param': rand_param,\n",
    "                    'gabor_seed': gabor_seed, 'sf_max': sf_max, 'sf_corr': sf_corr, 'sf': sf.copy(),\n",
    "                    'theta': theta.copy(), 'phase': phase.copy(), 'nx': nx.copy(), 'ny': ny.copy()}\n",
    "    arch_params = {'k_exc': k_exc, 'arch': model_arch, 'ksize': ksize, 'stride': stride}\n",
    "\n",
    "\n",
    "    # Conversions\n",
    "    ppd = image_size / visual_degrees\n",
    "\n",
    "    sf = sf / ppd\n",
    "    sigx = nx / sf\n",
    "    sigy = ny / sf\n",
    "    theta = theta/180 * np.pi\n",
    "    phase = phase / 180 * np.pi\n",
    "\n",
    "    vone_block = VOneBlock(sf=sf, theta=theta, sigx=sigx, sigy=sigy, phase=phase,\n",
    "                           k_exc=k_exc, noise_mode=noise_mode, noise_scale=noise_scale, noise_level=noise_level,\n",
    "                           simple_channels=simple_channels, complex_channels=complex_channels,\n",
    "                           ksize=ksize, stride=stride, input_size=image_size)\n",
    "\n",
    "    if model_arch:\n",
    "        bottleneck = nn.Conv2d(out_channels, 64, kernel_size=1, stride=1, bias=False)\n",
    "        nn.init.kaiming_normal_(bottleneck.weight, mode='fan_out', nonlinearity='relu')\n",
    "\n",
    "        if model_arch.lower() == 'resnet50':\n",
    "            print('Model: ', 'VOneResnet50')\n",
    "            model_back_end = ResNetBackEnd(block=Bottleneck, layers=[3, 4, 6, 3])\n",
    "        elif model_arch.lower() == 'alexnet':\n",
    "            print('Model: ', 'VOneAlexNet')\n",
    "            model_back_end = AlexNetBackEnd()\n",
    "        elif model_arch.lower() == 'cornets':\n",
    "            print('Model: ', 'VOneCORnet-S')\n",
    "            model_back_end = CORnetSBackEnd()\n",
    "\n",
    "        model = nn.Sequential(OrderedDict([\n",
    "            ('vone_block', vone_block),\n",
    "            ('bottleneck', bottleneck),\n",
    "            ('model', model_back_end),\n",
    "        ]))\n",
    "    else:\n",
    "        print('Model: ', 'VOneNet')\n",
    "        model = vone_block\n",
    "\n",
    "    model.image_size = image_size\n",
    "    model.visual_degrees = visual_degrees\n",
    "    model.gabor_params = gabor_params\n",
    "    model.arch_params = arch_params\n",
    "\n",
    "    return model\n",
    "\n",
    "\n"
   ]
  },
  {
   "cell_type": "code",
   "execution_count": null,
   "metadata": {},
   "outputs": [],
   "source": []
  }
 ],
 "metadata": {
  "kernelspec": {
   "display_name": "Python 3",
   "language": "python",
   "name": "python3"
  },
  "language_info": {
   "codemirror_mode": {
    "name": "ipython",
    "version": 3
   },
   "file_extension": ".py",
   "mimetype": "text/x-python",
   "name": "python",
   "nbconvert_exporter": "python",
   "pygments_lexer": "ipython3",
   "version": "3.10.12"
  }
 },
 "nbformat": 4,
 "nbformat_minor": 2
}
